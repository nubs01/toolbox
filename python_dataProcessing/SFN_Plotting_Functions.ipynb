{
 "cells": [
  {
   "cell_type": "code",
   "execution_count": 1,
   "metadata": {},
   "outputs": [],
   "source": [
    "import pandas as pd\n",
    "import numpy as np\n",
    "import matplotlib.pyplot as plt\n",
    "import seaborn as sns"
   ]
  },
  {
   "cell_type": "code",
   "execution_count": 4,
   "metadata": {},
   "outputs": [],
   "source": [
    "exclusions = ('state_name==\"Artifact\"',\n",
    "              'state_name==\"Transition\"',\n",
    "              'state_name==\"REM\"',\n",
    "              'animal==\"RW9\" and (state_name==\"Active\" or tetrode==6)', # allow Active in trace plots\n",
    "              'animal==\"RW7\" and day==5',\n",
    "              'animal==\"RZ7\" and day==3',\n",
    "              'animal==\"RZ9\" and day==5 and tetrode==8')\n",
    "qStr = 'not ('+') and not ('.join(exclusions)+')'"
   ]
  },
  {
   "cell_type": "code",
   "execution_count": 3,
   "metadata": {},
   "outputs": [],
   "source": [
    "method = 'CWT' # CWT or STFT\n",
    "measure = 'mean' # mean, median, total or norm_mean\n",
    "group = 'genotype' # genotype, gender or animal\n",
    "group_order = ('WT','Df1')"
   ]
  },
  {
   "cell_type": "code",
   "execution_count": null,
   "metadata": {},
   "outputs": [],
   "source": [
    "def logMean(x):\n",
    "    tmp = np.mean(x)\n",
    "    return 10*np.log10(tmp)\n",
    "def spec_plot(data,method,group,hue='state_name',asp=1.33,group_order=None,nBoot=1000):\n",
    "    yCol = method+'_Power'\n",
    "    if len(data[group].unique())>4:\n",
    "        legend_y = 1.2\n",
    "        cWrap=4\n",
    "    else:\n",
    "        legend_y = 1.05\n",
    "        cWrap=2\n",
    "    g = sns.FacetGrid(data=data,col=group,hue='state_name',\n",
    "                      margin_titles=True,hue_order=('NREM','Rest','Active'),\n",
    "                      palette=col_palette,col_order=group_order,height=6,aspect=asp,col_wrap=cWrap)\n",
    "    g = g.map(sns.lineplot,'frequency',yCol,sort=True,n_boot=nBoot,estimator=logMean)\n",
    "    plt.subplots_adjust(top=0.8)\n",
    "    g.fig.suptitle('Mean '+method+' Spectra')\n",
    "    [plt.setp(ax.texts, text=\"\") for ax in g.axes.flat]\n",
    "    g.set_titles(row_template='{row_name}', col_template='{col_name}')\n",
    "    g.set_axis_labels('',method+' Power (dB)')\n",
    "    g.fig.text(0.5,0,'Frequency (Hz)',ha='center',fontsize=24)\n",
    "    legend = plt.legend(loc='upper right', bbox_to_anchor=(1.1, legend_y),\n",
    "                        ncol=1, fancybox=True, shadow=True,fontsize=18,title='State')\n",
    "    g.despine()"
   ]
  },
  {
   "cell_type": "code",
   "execution_count": null,
   "metadata": {},
   "outputs": [],
   "source": [
    "def trace_plot(data,method,group,group_order=None,nBoot=1000):\n",
    "    yCol = method+'_delta_power'\n",
    "    g = sns.FacetGrid(data,hue='epoch_type',row=group,col='epoch_type',\n",
    "                      margin_titles=True,sharex=False,height=5,aspect=2,\n",
    "                      row_order=group_order,palette=col_palette,col_order=['Baseline','Saline','Ketamine'])\n",
    "    g = g.map(sns.lineplot,'epoch_time',yCol,n_boot=nBoot)\n",
    "    plt.subplots_adjust(top=0.9)\n",
    "    g.fig.suptitle(method+' Delta Power')\n",
    "    [plt.setp(ax.texts, text=\"\") for ax in g.axes.flat]\n",
    "    g.set_titles(row_template='{row_name}', col_template='{col_name}')\n",
    "    g.set_axis_labels('','')\n",
    "    g.fig.text(0,.5,'Normalized '+method+' Power (dB)',rotation=90,va='center',fontsize=24)\n",
    "    g.fig.text(0.5,0,'Frequency (Hz)',ha='center',fontsize=24)\n",
    "    g.despine()"
   ]
  },
  {
   "cell_type": "code",
   "execution_count": null,
   "metadata": {},
   "outputs": [],
   "source": [
    "def bar_plot(data,method,measure,group,hue='state_name',col=None,\n",
    "             group_order=None,nBoot=1000,col_order=None,row_order=None,\n",
    "             hue_order=None,row='power_band'):\n",
    "    yCol = method+'_'+measure\n",
    "    if len(data[group].unique())>4:\n",
    "        legend_y = 1.2\n",
    "        cWrap=4\n",
    "    else:\n",
    "        legend_y = 1.3\n",
    "        cWrap=2\n",
    "    if row is not None:\n",
    "        cWrap=None\n",
    "    g = sns.catplot(kind='bar',data=data,x=group,y=yCol,col=col,hue=hue,\n",
    "                    margin_titles=True,row=row,n_boot=nBoot,order=group_order,\n",
    "                    row_order=row_order,col_order=col_order,height=5,aspect=2,col_wrap=cWrap,\n",
    "                    hue_order=hue_order,legend=False)\n",
    "    plt.subplots_adjust(top=0.85)\n",
    "    g.fig.suptitle(method+' Band Power')\n",
    "    [plt.setp(ax.texts, text=\"\") for ax in g.axes.flat]\n",
    "    g.set_titles(row_template='{row_name}', col_template='{col_name}')\n",
    "    legend = g.axes.flat[0].legend(loc='best', bbox_to_anchor=(1.05, legend_y),\n",
    "                        ncol=1, fancybox=True, shadow=True,fontsize=18,title='State')\n",
    "    g.set_axis_labels('','')\n",
    "    g.fig.text(0.01,0.5,method+' '+measure+' Power',rotation=90,va='center',fontsize=24)\n",
    "    g.fig.text(0.5,0.03,'Frequency (Hz)',ha='center',fontsize=24)\n",
    "    g.despine()\n",
    "                    "
   ]
  }
 ],
 "metadata": {
  "kernelspec": {
   "display_name": "Python 3",
   "language": "python",
   "name": "python3"
  },
  "language_info": {
   "codemirror_mode": {
    "name": "ipython",
    "version": 3
   },
   "file_extension": ".py",
   "mimetype": "text/x-python",
   "name": "python",
   "nbconvert_exporter": "python",
   "pygments_lexer": "ipython3",
   "version": "3.5.2"
  }
 },
 "nbformat": 4,
 "nbformat_minor": 2
}
