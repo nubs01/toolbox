{
 "cells": [
  {
   "cell_type": "code",
   "execution_count": 1,
   "metadata": {},
   "outputs": [],
   "source": [
    "import pandas as pd\n",
    "import numpy as np\n",
    "import seaborn as sns\n",
    "import matplotlib as plt\n",
    "import easygui"
   ]
  },
  {
   "cell_type": "code",
   "execution_count": 2,
   "metadata": {},
   "outputs": [],
   "source": [
    "dataPath='/data/PPI/Run_Results.txt'\n",
    "data=pd.read_csv(dataPath,header=None)"
   ]
  },
  {
   "cell_type": "code",
   "execution_count": null,
   "metadata": {},
   "outputs": [],
   "source": []
  },
  {
   "cell_type": "code",
   "execution_count": 3,
   "metadata": {},
   "outputs": [],
   "source": [
    "header= {0:'Chamber',1:'Subject',2:'Session',3:'Channel',4:'Trial',5:'Trial Num',6:'Group',7:'Param',8:'Trial List Block',9:'Samples',10:'Rate',11:'V Start',12:'mV Max',13:'T Max',14:'mv Avg',15:'V Peak',16:'T Peak',17:'Run Time',18:'TimeStamp',19:'Run Data'}\n",
    "\n",
    "\n"
   ]
  },
  {
   "cell_type": "code",
   "execution_count": 4,
   "metadata": {},
   "outputs": [],
   "source": [
    "data = data.rename(columns=header)"
   ]
  },
  {
   "cell_type": "code",
   "execution_count": 127,
   "metadata": {},
   "outputs": [],
   "source": [
    "data = pd.concat((data,data.Session.str.split('_', expand=True)), axis=1).rename(columns={0:'date',1:'anim',2:'extra'})"
   ]
  },
  {
   "cell_type": "code",
   "execution_count": 128,
   "metadata": {},
   "outputs": [],
   "source": [
    "data = pd.concat((data,data.Trial.str.split('dB',expand=True)),axis=1).rename(columns={0:'startle_dB',1:'trial type'})"
   ]
  },
  {
   "cell_type": "code",
   "execution_count": 129,
   "metadata": {},
   "outputs": [],
   "source": [
    "idx = data.loc[:,'startle_dB']=='No stimulus'\n",
    "data.loc[idx,'startle_dB']=0"
   ]
  },
  {
   "cell_type": "code",
   "execution_count": 130,
   "metadata": {},
   "outputs": [],
   "source": [
    "data.loc[idx,'trial type']='No Stim'"
   ]
  },
  {
   "cell_type": "code",
   "execution_count": 131,
   "metadata": {},
   "outputs": [],
   "source": [
    "idx = data.extra=='T2'\n",
    "data.loc[idx,'Chamber']=2"
   ]
  },
  {
   "cell_type": "code",
   "execution_count": 142,
   "metadata": {},
   "outputs": [],
   "source": [
    "dLen = len(data)\n",
    "data['PPI']=np.where(data.Trial.str.contains('PPI'),1,0)"
   ]
  },
  {
   "cell_type": "code",
   "execution_count": 5,
   "metadata": {},
   "outputs": [
    {
     "data": {
      "text/html": [
       "<div>\n",
       "<style scoped>\n",
       "    .dataframe tbody tr th:only-of-type {\n",
       "        vertical-align: middle;\n",
       "    }\n",
       "\n",
       "    .dataframe tbody tr th {\n",
       "        vertical-align: top;\n",
       "    }\n",
       "\n",
       "    .dataframe thead th {\n",
       "        text-align: right;\n",
       "    }\n",
       "</style>\n",
       "<table border=\"1\" class=\"dataframe\">\n",
       "  <thead>\n",
       "    <tr style=\"text-align: right;\">\n",
       "      <th></th>\n",
       "      <th>Chamber</th>\n",
       "      <th>Subject</th>\n",
       "      <th>Session</th>\n",
       "      <th>Channel</th>\n",
       "      <th>Trial</th>\n",
       "      <th>Trial Num</th>\n",
       "      <th>Group</th>\n",
       "      <th>Param</th>\n",
       "      <th>Trial List Block</th>\n",
       "      <th>Samples</th>\n",
       "      <th>Rate</th>\n",
       "      <th>V Start</th>\n",
       "      <th>mV Max</th>\n",
       "      <th>T Max</th>\n",
       "      <th>mv Avg</th>\n",
       "      <th>V Peak</th>\n",
       "      <th>T Peak</th>\n",
       "      <th>Run Time</th>\n",
       "      <th>TimeStamp</th>\n",
       "      <th>Run Data</th>\n",
       "    </tr>\n",
       "  </thead>\n",
       "  <tbody>\n",
       "    <tr>\n",
       "      <th>0</th>\n",
       "      <td>1</td>\n",
       "      <td>NaN</td>\n",
       "      <td>180904_LDF48</td>\n",
       "      <td>1</td>\n",
       "      <td>100dB startle</td>\n",
       "      <td>16</td>\n",
       "      <td>NaN</td>\n",
       "      <td>NaN</td>\n",
       "      <td>1</td>\n",
       "      <td>100</td>\n",
       "      <td>1000</td>\n",
       "      <td>11</td>\n",
       "      <td>174</td>\n",
       "      <td>21</td>\n",
       "      <td>56</td>\n",
       "      <td>0</td>\n",
       "      <td>0</td>\n",
       "      <td>9/4/2018 3:40:49 PM</td>\n",
       "      <td>0.0</td>\n",
       "      <td>NaN</td>\n",
       "    </tr>\n",
       "    <tr>\n",
       "      <th>1</th>\n",
       "      <td>1</td>\n",
       "      <td>NaN</td>\n",
       "      <td>180904_LDF48</td>\n",
       "      <td>1</td>\n",
       "      <td>102dB startle</td>\n",
       "      <td>17</td>\n",
       "      <td>NaN</td>\n",
       "      <td>NaN</td>\n",
       "      <td>1</td>\n",
       "      <td>100</td>\n",
       "      <td>1000</td>\n",
       "      <td>2</td>\n",
       "      <td>954</td>\n",
       "      <td>28</td>\n",
       "      <td>171</td>\n",
       "      <td>0</td>\n",
       "      <td>0</td>\n",
       "      <td>9/4/2018 3:41:09 PM</td>\n",
       "      <td>0.0</td>\n",
       "      <td>NaN</td>\n",
       "    </tr>\n",
       "    <tr>\n",
       "      <th>2</th>\n",
       "      <td>1</td>\n",
       "      <td>NaN</td>\n",
       "      <td>180904_LDF48</td>\n",
       "      <td>1</td>\n",
       "      <td>104dB startle</td>\n",
       "      <td>18</td>\n",
       "      <td>NaN</td>\n",
       "      <td>NaN</td>\n",
       "      <td>1</td>\n",
       "      <td>100</td>\n",
       "      <td>1000</td>\n",
       "      <td>9</td>\n",
       "      <td>124</td>\n",
       "      <td>49</td>\n",
       "      <td>40</td>\n",
       "      <td>0</td>\n",
       "      <td>0</td>\n",
       "      <td>9/4/2018 3:41:35 PM</td>\n",
       "      <td>0.0</td>\n",
       "      <td>NaN</td>\n",
       "    </tr>\n",
       "    <tr>\n",
       "      <th>3</th>\n",
       "      <td>1</td>\n",
       "      <td>NaN</td>\n",
       "      <td>180904_LDF48</td>\n",
       "      <td>1</td>\n",
       "      <td>106dB startle</td>\n",
       "      <td>19</td>\n",
       "      <td>NaN</td>\n",
       "      <td>NaN</td>\n",
       "      <td>1</td>\n",
       "      <td>100</td>\n",
       "      <td>1000</td>\n",
       "      <td>5</td>\n",
       "      <td>835</td>\n",
       "      <td>27</td>\n",
       "      <td>148</td>\n",
       "      <td>0</td>\n",
       "      <td>0</td>\n",
       "      <td>9/4/2018 3:41:51 PM</td>\n",
       "      <td>0.0</td>\n",
       "      <td>NaN</td>\n",
       "    </tr>\n",
       "    <tr>\n",
       "      <th>4</th>\n",
       "      <td>1</td>\n",
       "      <td>NaN</td>\n",
       "      <td>180904_LDF48</td>\n",
       "      <td>1</td>\n",
       "      <td>108dB startle</td>\n",
       "      <td>20</td>\n",
       "      <td>NaN</td>\n",
       "      <td>NaN</td>\n",
       "      <td>1</td>\n",
       "      <td>100</td>\n",
       "      <td>1000</td>\n",
       "      <td>3</td>\n",
       "      <td>813</td>\n",
       "      <td>18</td>\n",
       "      <td>193</td>\n",
       "      <td>0</td>\n",
       "      <td>0</td>\n",
       "      <td>9/4/2018 3:42:11 PM</td>\n",
       "      <td>0.0</td>\n",
       "      <td>NaN</td>\n",
       "    </tr>\n",
       "  </tbody>\n",
       "</table>\n",
       "</div>"
      ],
      "text/plain": [
       "   Chamber  Subject       Session  Channel          Trial  Trial Num  Group  \\\n",
       "0        1      NaN  180904_LDF48        1  100dB startle         16    NaN   \n",
       "1        1      NaN  180904_LDF48        1  102dB startle         17    NaN   \n",
       "2        1      NaN  180904_LDF48        1  104dB startle         18    NaN   \n",
       "3        1      NaN  180904_LDF48        1  106dB startle         19    NaN   \n",
       "4        1      NaN  180904_LDF48        1  108dB startle         20    NaN   \n",
       "\n",
       "   Param  Trial List Block  Samples  Rate  V Start  mV Max  T Max  mv Avg  \\\n",
       "0    NaN                 1      100  1000       11     174     21      56   \n",
       "1    NaN                 1      100  1000        2     954     28     171   \n",
       "2    NaN                 1      100  1000        9     124     49      40   \n",
       "3    NaN                 1      100  1000        5     835     27     148   \n",
       "4    NaN                 1      100  1000        3     813     18     193   \n",
       "\n",
       "   V Peak  T Peak             Run Time  TimeStamp  Run Data  \n",
       "0       0       0  9/4/2018 3:40:49 PM        0.0       NaN  \n",
       "1       0       0  9/4/2018 3:41:09 PM        0.0       NaN  \n",
       "2       0       0  9/4/2018 3:41:35 PM        0.0       NaN  \n",
       "3       0       0  9/4/2018 3:41:51 PM        0.0       NaN  \n",
       "4       0       0  9/4/2018 3:42:11 PM        0.0       NaN  "
      ]
     },
     "execution_count": 5,
     "metadata": {},
     "output_type": "execute_result"
    }
   ],
   "source": [
    "\n",
    "data.head()"
   ]
  },
  {
   "cell_type": "code",
   "execution_count": 144,
   "metadata": {},
   "outputs": [
    {
     "name": "stdout",
     "output_type": "stream",
     "text": [
      "['180904_LDF48' '180904_LDF48_rPPI' '180904_LDF79' '180904_LDF79_rPPI'\n",
      " '180918_LDF46' '180918_LDF83' '180924_LDF50' '180924_LDF85'\n",
      " '180926_LDF84' '180926_LDF84_T2' '180926_LDF86' '180926_LDF86_T2'\n",
      " '180927_LDF84' '180927_LDF86' '181008_LDF68' '181009_LDF91'\n",
      " '181010_LDF90' '181015_LDF67' '181015_LDF93' '181015_LDF94']\n",
      "[None 'rPPI' 'T2']\n",
      "['100' '102' '104' '106' '108' '110' '112' '114' '116' '118' '120' '70'\n",
      " '72' '74' '76' '78' '80' '82' '84' '86' '88' '90' '92' '94' '96' '98' 0\n",
      " 'PPI 114/70' 'PPI 114/75' 'PPI 114/80' 'Prepulse 75 only' 'PPI 102/70'\n",
      " 'PPI 102/75' 'PPI 102/80']\n",
      "[' startle' 'No Stim' None]\n",
      "[1 2]\n",
      "520\n"
     ]
    }
   ],
   "source": [
    "print(data.Session.unique())\n",
    "print(data.extra.unique())\n",
    "print(data.startle_dB.unique())\n",
    "print(data['trial type'].unique())\n",
    "print(data.Chamber.unique())\n",
    "print(len(data))"
   ]
  },
  {
   "cell_type": "code",
   "execution_count": 40,
   "metadata": {},
   "outputs": [],
   "source": [
    "custom_style = {'figure.facecolor':'.4',\n",
    "                \"axes.facecolor\":\".4\",\n",
    "                'axes.edgecolor':'.4',\n",
    "                \"axes.labelcolor\":\"white\",\n",
    "                \"axes.grid\":False,\n",
    "                'grid.color':'black',\n",
    "                \"text.color\":\"white\",\n",
    "                \"patch_edgecolor\":'white',\n",
    "                \"xtick.color\":\"white\",\n",
    "                \"ytick.color\":\"white\",\n",
    "                'axes.edgecolor':'black'}\n",
    "sns.set_style('white',rc=custom_style)\n",
    "sns.set_context('talk')\n",
    "col_palette = sns.color_palette(\"husl\")"
   ]
  },
  {
   "cell_type": "code",
   "execution_count": 68,
   "metadata": {},
   "outputs": [
    {
     "data": {
      "text/plain": [
       "<seaborn.axisgrid.FacetGrid at 0x7f57d1e4aeb8>"
      ]
     },
     "execution_count": 68,
     "metadata": {},
     "output_type": "execute_result"
    },
    {
     "data": {
      "image/png": "[encoded data removed]",
      "text/plain": [
       "<Figure size 1080x360 with 1 Axes>"
      ]
     },
     "metadata": {},
     "output_type": "display_data"
    }
   ],
   "source": [
    "plt.rcParams[\"figure.figsize\"] = (20, 4)\n",
    "plt.rcParams[\"xtick.labelsize\"] = 7\n",
    "ax = sns.catplot(x=\"dB\",y=\"mV Max\",data=data[pd.isna(data.extra)],kind='box',aspect=3,order=range(70,120,2))\n",
    "ax.set_xticklabels(rotation=90)"
   ]
  },
  {
   "cell_type": "code",
   "execution_count": 63,
   "metadata": {},
   "outputs": [
    {
     "data": {
      "text/plain": [
       "0       True\n",
       "1       True\n",
       "2       True\n",
       "3       True\n",
       "4       True\n",
       "5       True\n",
       "6       True\n",
       "7       True\n",
       "8       True\n",
       "9       True\n",
       "10      True\n",
       "11      True\n",
       "12      True\n",
       "13      True\n",
       "14      True\n",
       "15      True\n",
       "16      True\n",
       "17      True\n",
       "18      True\n",
       "19      True\n",
       "20      True\n",
       "21      True\n",
       "22      True\n",
       "23      True\n",
       "24      True\n",
       "25      True\n",
       "26     False\n",
       "27     False\n",
       "28     False\n",
       "29     False\n",
       "       ...  \n",
       "490     True\n",
       "491     True\n",
       "492     True\n",
       "493     True\n",
       "494     True\n",
       "495     True\n",
       "496     True\n",
       "497     True\n",
       "498     True\n",
       "499     True\n",
       "500     True\n",
       "501     True\n",
       "502     True\n",
       "503     True\n",
       "504     True\n",
       "505     True\n",
       "506     True\n",
       "507     True\n",
       "508     True\n",
       "509     True\n",
       "510     True\n",
       "511     True\n",
       "512     True\n",
       "513     True\n",
       "514     True\n",
       "515     True\n",
       "516     True\n",
       "517     True\n",
       "518     True\n",
       "519     True\n",
       "Name: extra, Length: 520, dtype: bool"
      ]
     },
     "execution_count": 63,
     "metadata": {},
     "output_type": "execute_result"
    }
   ],
   "source": [
    "pd.isna(data.extra)"
   ]
  },
  {
   "cell_type": "code",
   "execution_count": null,
   "metadata": {},
   "outputs": [],
   "source": []
  }
 ],
 "metadata": {
  "kernelspec": {
   "display_name": "Python 3",
   "language": "python",
   "name": "python3"
  },
  "language_info": {
   "codemirror_mode": {
    "name": "ipython",
    "version": 3
   },
   "file_extension": ".py",
   "mimetype": "text/x-python",
   "name": "python",
   "nbconvert_exporter": "python",
   "pygments_lexer": "ipython3",
   "version": "3.5.2"
  }
 },
 "nbformat": 4,
 "nbformat_minor": 2
}
