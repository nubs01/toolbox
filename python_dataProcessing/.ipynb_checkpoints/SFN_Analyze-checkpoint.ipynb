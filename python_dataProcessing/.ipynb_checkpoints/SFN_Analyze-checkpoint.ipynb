{
 "cells": [
  {
   "cell_type": "code",
   "execution_count": 2,
   "metadata": {},
   "outputs": [],
   "source": [
    "import pandas as pd\n",
    "import numpy as np\n",
    "import datetime as dt\n",
    "import seaborn as sns\n",
    "import os\n",
    "import matplotlib.pyplot as plt\n",
    "import warnings\n",
    "warnings.simplefilter(action='ignore', category=FutureWarning)"
   ]
  },
  {
   "cell_type": "code",
   "execution_count": 3,
   "metadata": {},
   "outputs": [],
   "source": [
    "# Set plot style\n",
    "custom_style = {'figure.facecolor':'.4',\n",
    "                \"axes.facecolor\":\".4\",\n",
    "                'axes.edgecolor':'.4',\n",
    "                \"axes.labelcolor\":\"white\",\n",
    "                \"axes.grid\":True,\n",
    "                'grid.color':'white',\n",
    "                \"text.color\":\"white\",\n",
    "                \"patch_edgecolor\":'white',\n",
    "                \"xtick.color\":\"white\",\n",
    "                \"ytick.color\":\"white\",\n",
    "                'axes.edgecolor':'black',\n",
    "               'legend.frameon':True}\n",
    "sns.set_style('whitegrid')\n",
    "sns.set_context('poster')\n",
    "col_palette = sns.color_palette(\"husl\")\n",
    "gender_palette = sns.color_palette(['#1258DC','#C21460']) # M F\n",
    "geno_palette = sns.color_palette(['#305A30','#A70F01']) # WT Df1\n",
    "gengen_palette = sns.color_palette(['#305A30','#A70F01','#559E54','#FE2712']) # WT_M Df1_M WT_F Df1_F\n",
    "anim_palette = sns.color_palette(['#92C591','#559E54','#305A30','#0A3409','#FE8176','#FE2712','#A70F01','#882216']) # RW7 RW8 RW9 RW10 RZ7 RZ8 RZ9 RZ10\n",
    "specAnim_palette = sns.color_palette(['#305A30','#0A3409','#A70F01','#882216']) # RW9 RW10 RZ9 RZ10\n",
    "bandAnim_palette = sns.color_palette(['#92C591','#FE8176','#559E54','#FE2712','#305A30','#A70F01','#0A3409','#882216']) # RW7 RZ7 RW8 RZ8 RW9 RZ9 RW10 RZ10\n",
    "epoch_palette = sns.color_palette(['#2E2FE3','#FB8604','#448D76']) # Baseline Saline Ketamine\n",
    "state_palette = sns.color_palette(['#448D76','#FB8604','#EA202C'])\n",
    "palDict = {'genotype':geno_palette,\n",
    "           'gender': gender_palette,\n",
    "           'geno_gender':gengen_palette,\n",
    "           'animal':anim_palette,\n",
    "           'epoch_name':epoch_palette,\n",
    "           'spec_animal':specAnim_palette,\n",
    "           'state_name':state_palette,\n",
    "           'band_animal':bandAnim_palette}\n",
    "groupOrders = {'genotype':['WT','Df1'],\n",
    "               'gender':['M','F'],\n",
    "               'geno_gender':['WT_M','Df1_M','WT_F','Df1_F'],\n",
    "               'animal':['RW7','RW8','RW9','RW10','RZ7','RZ8','RZ9','RZ10'],\n",
    "               'epoch_name':['Baseline','Saline','Ketamine'],\n",
    "               'spec_animal':['RW9','RW10','RZ9','RZ10'],\n",
    "               'state_name':['NREM','Rest','Active'],\n",
    "               'band_animal':['RW7','RZ7','RW8','RZ8','RW9','RZ9','RW10','RZ10']}\n",
    "def addTitle(fig=None,title='',adj=0.85):\n",
    "    plt.subplots_adjust(top=adj)\n",
    "    fig.fig.suptitle(title)"
   ]
  },
  {
   "cell_type": "code",
   "execution_count": 4,
   "metadata": {},
   "outputs": [],
   "source": [
    "traceList = []\n",
    "specList = []\n",
    "bandList = []\n",
    "project_path = '/data/Projects/'\n",
    "figure_dir = project_path+'rn_Schizophrenia_Project/SFN2018_Figures/'\n",
    "\n",
    "for dirpath,dirnames,files in os.walk(project_path):\n",
    "    for name in files:\n",
    "        if name.endswith('deltaTraceMatrix.csv'):\n",
    "            traceList.append(os.path.join(dirpath+'/'+name))\n",
    "        if name.endswith('sleepSpecMatrix.csv'):\n",
    "            specList.append(os.path.join(dirpath+'/'+name))\n",
    "        if name.endswith('sleepBandPowerMatrix.csv'):\n",
    "            bandList.append(os.path.join(dirpath+'/'+name))"
   ]
  },
  {
   "cell_type": "code",
   "execution_count": 5,
   "metadata": {},
   "outputs": [],
   "source": [
    "def logMean(x):\n",
    "    tmp = np.mean(x)\n",
    "    return 10*np.log10(tmp)\n",
    "def spec_plot(data,method,group,hue='state_name',asp=1.33,group_order=None,nBoot=1000,hue_order=None):\n",
    "    if hue_order is None:\n",
    "        hue_order = groupOrders[hue]\n",
    "    if group_order is None:\n",
    "        group_order = groupOrders[group]\n",
    "    palette = palDict[hue]\n",
    "    yCol = method+'_Power'\n",
    "    if len(data[group].unique())>4:\n",
    "        legend_y = 1.2\n",
    "        cWrap=4\n",
    "        shift = 0.9\n",
    "    else:\n",
    "        legend_y = 1.05\n",
    "        cWrap=len(data[group].unique())\n",
    "        shift = 0.8\n",
    "    g = sns.FacetGrid(data=data,col=group,hue=hue,hue_order=hue_order,\n",
    "                      margin_titles=True,\n",
    "                      palette=palette,col_order=group_order,height=6,aspect=asp,col_wrap=cWrap)\n",
    "    g = g.map(sns.lineplot,'frequency',yCol,sort=True,n_boot=nBoot,estimator=logMean,ci=68)\n",
    "    plt.subplots_adjust(top=shift)\n",
    "    g.fig.suptitle('Mean '+method+' Spectra')\n",
    "    [plt.setp(ax.texts, text=\"\") for ax in g.axes.flat]\n",
    "    g.set_titles(row_template='{row_name}', col_template='{col_name}')\n",
    "    g.set_axis_labels('','')\n",
    "    g.fig.text(0.5,0,'Frequency (Hz)',ha='center',fontsize=24)\n",
    "    g.fig.text(0,.5,method+' Power (dB)',rotation=90,va='center',fontsize=24)\n",
    "    legend = plt.legend(loc='upper right', bbox_to_anchor=(1.1, legend_y),\n",
    "                        ncol=1, fancybox=True, shadow=True,fontsize=18)\n",
    "    g.despine()\n",
    "    return g"
   ]
  },
  {
   "cell_type": "code",
   "execution_count": 6,
   "metadata": {},
   "outputs": [],
   "source": [
    "def trace_plot(data,method,group,group_order=None,nBoot=1000,hue='epoch_name'):\n",
    "    if group_order is None:\n",
    "        group_order = groupOrders[group]\n",
    "    if group is 'animal':\n",
    "        group_order = groupOrders['spec_animal']\n",
    "    hue_order = groupOrders[hue]\n",
    "    palette = palDict[hue]\n",
    "    yCol = method+'_delta_power'\n",
    "    g = sns.FacetGrid(data,hue=hue,row=group,col=hue,\n",
    "                      margin_titles=True,sharex=False,height=5,aspect=2,\n",
    "                      row_order=group_order,palette=palette,col_order=hue_order)\n",
    "    g = g.map(sns.lineplot,'epoch_minutes',yCol,n_boot=nBoot,ci=68)\n",
    "    plt.subplots_adjust(top=0.88)\n",
    "    g.fig.suptitle(method+' Delta Power')\n",
    "    [plt.setp(ax.texts, text=\"\") for ax in g.axes.flat]\n",
    "    g.set_titles(row_template='{row_name}', col_template='{col_name}')\n",
    "    g.set_axis_labels('','')\n",
    "    g.fig.text(0,.5,'Normalized '+method+' Power',rotation=90,va='center',fontsize=24)\n",
    "    g.fig.text(0.5,0,'Time (min)',ha='center',fontsize=24)\n",
    "    g.despine()\n",
    "    return g"
   ]
  },
  {
   "cell_type": "code",
   "execution_count": 7,
   "metadata": {},
   "outputs": [],
   "source": [
    "def bar_plot(data,method,measure,group,hue='state_name',col=None,\n",
    "             nBoot=1000,col_order=None,row_order=['delta','theta'],\n",
    "             row='power_band'):\n",
    "    hue_order = groupOrders[hue]\n",
    "    group_order = groupOrders[group]\n",
    "    palette = palDict[hue]\n",
    "    if hue is 'animal':\n",
    "        hue_order = groupOrders['band_animal']\n",
    "        palette = palDict['band_animal']\n",
    "    yCol = method+'_'+measure\n",
    "    if len(data[group].unique())>4:\n",
    "        legend_y = 1.2\n",
    "        cWrap=4\n",
    "    else:\n",
    "        legend_y = 1.3\n",
    "        cWrap=2\n",
    "    if row is not None:\n",
    "        cWrap=None\n",
    "    g = sns.catplot(kind='bar',data=data,x=group,y=yCol,col=col,hue=hue,\n",
    "                    margin_titles=True,row=row,n_boot=nBoot,order=group_order,\n",
    "                    row_order=row_order,col_order=col_order,height=5,aspect=2,col_wrap=cWrap,\n",
    "                    hue_order=hue_order,legend=False,palette=palette)\n",
    "    plt.subplots_adjust(top=0.85)\n",
    "    g.fig.suptitle(method+' Band Power')\n",
    "    [plt.setp(ax.texts, text=\"\") for ax in g.axes.flat]\n",
    "    g.set_titles(row_template='{row_name}', col_template='{col_name}')\n",
    "    legend = g.axes.flat[0].legend(loc='center', bbox_to_anchor=(1.25, 0),\n",
    "                        ncol=1, fancybox=True, shadow=True,fontsize=18)\n",
    "    g.set_axis_labels('','')\n",
    "    g.fig.text(0.01,0.5,method+' '+measure+' Power',rotation=90,va='center',fontsize=24)\n",
    "    g.fig.text(0.5,0.03,'Frequency (Hz)',ha='center',fontsize=24)\n",
    "    g.despine()\n",
    "    return g\n",
    "                    "
   ]
  },
  {
   "cell_type": "code",
   "execution_count": 8,
   "metadata": {},
   "outputs": [],
   "source": [
    "exclusions = ('state_name==\"Artifact\"',\n",
    "              'state_name==\"Transition\"',\n",
    "              'state_name==\"REM\"',\n",
    "              'animal==\"RW9\" and (state_name==\"Active\" or tetrode==6)', # allow Active in trace plots\n",
    "              'animal==\"RW7\" and day==5',\n",
    "              'animal==\"RZ7\" and day==3',\n",
    "              'animal==\"RZ9\" and day==5 and tetrode==8',\n",
    "              'epoch_name==\"Home\"')\n",
    "qStr = 'not ('+') and not ('.join(exclusions)+')'\n",
    "traceExclusions = ('state_name==\"Artifact\"',\n",
    "              'animal==\"RW9\" and tetrode==6', # allow Active, REM and Transition in trace plots\n",
    "              'animal==\"RW7\" and day==5',\n",
    "              'animal==\"RZ7\" and day==3',\n",
    "              'animal==\"RZ9\" and day==5 and tetrode==8',\n",
    "              'epoch_name==\"Home\"',\n",
    "              'gender==\"F\"')\n",
    "tqStr = 'not ('+') and not ('.join(traceExclusions)+')'"
   ]
  },
  {
   "cell_type": "code",
   "execution_count": 9,
   "metadata": {},
   "outputs": [
    {
     "name": "stdout",
     "output_type": "stream",
     "text": [
      "Data Loaded!\n"
     ]
    }
   ],
   "source": [
    "traceMat = pd.DataFrame()\n",
    "specMat = pd.DataFrame()\n",
    "bandMat = pd.DataFrame()\n",
    "for rf in traceList:\n",
    "    tmp = pd.read_csv(rf)\n",
    "    traceMat = traceMat.append(tmp)\n",
    "for rf in specList:\n",
    "    tmp = pd.read_csv(rf)\n",
    "    specMat = specMat.append(tmp)\n",
    "for rf in bandList:\n",
    "    tmp = pd.read_csv(rf)\n",
    "    bandMat = bandMat.append(tmp)\n",
    "traceMat = traceMat.reset_index(drop=True)\n",
    "bandMat = bandMat.reset_index(drop=True)\n",
    "specMat = specMat.reset_index(drop=True)\n",
    "print('Data Loaded!')"
   ]
  },
  {
   "cell_type": "code",
   "execution_count": 10,
   "metadata": {},
   "outputs": [],
   "source": [
    "# Change Epoch Names (Baseline, Saline, Ketamine, Home)\n",
    "# Change Band Names (Delta, Theta)\n",
    "bandDict = {'delta':'Delta','theta':'Theta'}\n",
    "#bandMat['power_band']=bandMat['power_band'].map(bandDict)\n",
    "epochDict = {'Sleep':'Baseline','Saline':'Saline','Ketamine':'Ketamine','Home':'Home'}\n",
    "traceMat['epoch_name'] = traceMat['epoch_type'].map(epochDict)\n",
    "specMat['epoch_name'] = specMat['epoch_type'].map(epochDict)\n",
    "bandMat['epoch_name'] = bandMat['epoch_type'].map(epochDict)\n",
    "\n",
    "# Make epoch timestamps\n",
    "traceMat['epoch_timestamp'] = pd.to_datetime(traceMat['epoch_time'],unit='s')\n",
    "traceMat['epoch_minutes'] = traceMat['epoch_time']/60\n",
    "\n",
    "# Make geno_gender column\n",
    "specMat['geno_gender'] = specMat['genotype'].map(str) + '_' + specMat['gender']\n",
    "bandMat['geno_gender'] = bandMat['genotype'].map(str) + '_' + bandMat['gender']"
   ]
  },
  {
   "cell_type": "code",
   "execution_count": 11,
   "metadata": {},
   "outputs": [],
   "source": [
    "# Add state names\n",
    "stateDict = {1:'REM',2:'NREM',3:'Rest',4:'Active',5:'Transition',6:'Artifact'}\n",
    "bandMat['state_name']=bandMat['sleep_state'].map(stateDict)\n",
    "specMat['state_name']=specMat['sleep_state'].map(stateDict)\n",
    "traceMat['state_name']=traceMat['sleep_state'].map(stateDict)"
   ]
  },
  {
   "cell_type": "code",
   "execution_count": 12,
   "metadata": {},
   "outputs": [],
   "source": [
    "# Exclude\n",
    "tmpDat = traceMat.query(tqStr)\n",
    "bandDat = bandMat.query(qStr)\n",
    "specDat = specMat.query(qStr)\n",
    "\n",
    "# Group and bin and smooth traces\n",
    "# TODO: Smooth\n",
    "traceDat = tmpDat.groupby(\n",
    "    ['animal','genotype','day','epoch_name','tetrode']\n",
    "    )['epoch_timestamp','epoch_time','epoch_minutes','age','sleep_state',\n",
    "      'STFT_delta_power','CWT_delta_power'].resample('1T',on='epoch_timestamp').mean()\n",
    "traceDat = traceDat.reset_index()"
   ]
  },
  {
   "cell_type": "code",
   "execution_count": null,
   "metadata": {},
   "outputs": [],
   "source": [
    "# One off plot of each animals delta trace on each day\n",
    "#tmp = traceDat.copy()\n",
    "#tmp['Anim_Day'] = traceDat['animal'].map(str) + '_'+traceDat['day'].astype('str')\n",
    "#tmp.head()\n",
    "#tp = trace_plot(tmp,method,'Anim_Day')\n",
    "#tp.savefig(figure_dir+method+'_AnimDay_TracePlot.svg',format='svg')"
   ]
  },
  {
   "cell_type": "code",
   "execution_count": 13,
   "metadata": {},
   "outputs": [],
   "source": [
    "methods = ('CWT','STFT')\n",
    "measures = ('mean','median','total','norm_mean')\n",
    "groups = ('genotype','gender','animal','geno_gender')"
   ]
  },
  {
   "cell_type": "code",
   "execution_count": 14,
   "metadata": {
    "tags": [
     "parameters"
    ]
   },
   "outputs": [],
   "source": [
    "method = 'CWT' # CWT/STFT"
   ]
  },
  {
   "cell_type": "code",
   "execution_count": null,
   "metadata": {},
   "outputs": [],
   "source": [
    "for group in groups:\n",
    "    if group in traceDat.columns:\n",
    "        tp = trace_plot(traceDat,method,group)\n",
    "        tp.savefig(figure_dir+method+'_'+group+'_tracePlot.svg',format='svg')\n",
    "    sp1 = spec_plot(specDat,method,group,hue='state_name')\n",
    "    sp1.savefig(figure_dir+method+'_'+group+'_withinSpec.svg',format='svg')\n",
    "    sp2 = spec_plot(specDat,method,'state_name',hue=group)\n",
    "    sp2.savefig(figure_dir+method+'_'+group+'_betweenSpec.svg')\n",
    "    for measure in measures:\n",
    "        bp1 = bar_plot(bandDat,method,measure,group,hue='state_name')\n",
    "        bp1.savefig(figure_dir+method+'_'+measure+'_'+group+'_withinBar.svg')\n",
    "        bp2= bar_plot(bandDat,method,measure,'state_name',hue=group)\n",
    "        bp2.savefig(figure_dir+method+'_'+measure+'_'+group+'_betweenBar.svg')"
   ]
  }
 ],
 "metadata": {
  "celltoolbar": "Tags",
  "kernelspec": {
   "display_name": "Python 3",
   "language": "python",
   "name": "python3"
  },
  "language_info": {
   "codemirror_mode": {
    "name": "ipython",
    "version": 3
   },
   "file_extension": ".py",
   "mimetype": "text/x-python",
   "name": "python",
   "nbconvert_exporter": "python",
   "pygments_lexer": "ipython3",
   "version": "3.5.2"
  }
 },
 "nbformat": 4,
 "nbformat_minor": 2
}
