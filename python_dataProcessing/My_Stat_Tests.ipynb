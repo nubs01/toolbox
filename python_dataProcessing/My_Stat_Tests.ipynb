{
 "cells": [
  {
   "cell_type": "code",
   "execution_count": 5,
   "metadata": {},
   "outputs": [],
   "source": [
    "import numpy as np\n",
    "import pandas as pd"
   ]
  },
  {
   "cell_type": "code",
   "execution_count": 28,
   "metadata": {},
   "outputs": [],
   "source": [
    "def bootstrap(data,n_boot=1000,bootfun=np.mean):\n",
    "    stats = []\n",
    "    N = len(data)\n",
    "    for i in range(n_boot):\n",
    "        stats.append(bootfun(np.random.choice(data,N,replace=True)))\n",
    "    sem = np.std(stats)\n",
    "    mean = np.mean(stats)\n",
    "    ci = (np.percentile(stats,2.5),np.percentile(stats,97.5))\n",
    "    return mean, sem, ci"
   ]
  },
  {
   "cell_type": "code",
   "execution_count": 50,
   "metadata": {},
   "outputs": [],
   "source": [
    "def permutation_test(pooled,n,m,delta,myfun=lambda x,y:np.mean(x)-np.mean(y),n_boot=1000):\n",
    "    N = n+m\n",
    "    stats = []\n",
    "    for i in range(n_boot):\n",
    "        np.random.shuffle(pooled)\n",
    "        stats.append(myfun(pooled[:n],pooled[n:]))\n",
    "    stats = np.array(stats)\n",
    "    diffCount = (np.abs(stats)>=delta).sum()\n",
    "    pval = 1 - (float(diffCount)/float(n_boot))\n",
    "    return pval"
   ]
  },
  {
   "cell_type": "code",
   "execution_count": null,
   "metadata": {},
   "outputs": [],
   "source": []
  }
 ],
 "metadata": {
  "kernelspec": {
   "display_name": "Python 3",
   "language": "python",
   "name": "python3"
  },
  "language_info": {
   "codemirror_mode": {
    "name": "ipython",
    "version": 3
   },
   "file_extension": ".py",
   "mimetype": "text/x-python",
   "name": "python",
   "nbconvert_exporter": "python",
   "pygments_lexer": "ipython3",
   "version": "3.5.2"
  }
 },
 "nbformat": 4,
 "nbformat_minor": 2
}
