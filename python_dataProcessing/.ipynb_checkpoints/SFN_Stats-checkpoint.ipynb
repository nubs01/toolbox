{
 "cells": [
  {
   "cell_type": "code",
   "execution_count": 1,
   "metadata": {},
   "outputs": [],
   "source": [
    "import pandas as pd\n",
    "import numpy as np\n",
    "import datetime as dt\n",
    "import seaborn as sns\n",
    "import os\n",
    "import matplotlib.pyplot as plt\n",
    "import warnings\n",
    "from sklearn.decomposition import PCA \n",
    "from sklearn.preprocessing import StandardScaler\n",
    "from IPython.display import display\n",
    "from pandas.tools.plotting import table\n",
    "from scipy.stats import mannwhitneyu as mannu\n",
    "from scipy.stats import kruskal\n",
    "import scikit_posthocs as sp"
   ]
  },
  {
   "cell_type": "code",
   "execution_count": 2,
   "metadata": {},
   "outputs": [],
   "source": [
    "def bootstrap(data,n_boot=1000,bootfun=np.mean):\n",
    "    stats = []\n",
    "    N = len(data)\n",
    "    for i in range(n_boot):\n",
    "        stats.append(bootfun(np.random.choice(data,N,replace=True)))\n",
    "    sem = np.std(stats)\n",
    "    mean = np.mean(stats)\n",
    "    ci = (np.percentile(stats,2.5),np.percentile(stats,97.5))\n",
    "    return mean, sem, ci"
   ]
  },
  {
   "cell_type": "code",
   "execution_count": 3,
   "metadata": {},
   "outputs": [],
   "source": [
    "def permutation_test(pooled,n,m,delta,myfun=lambda x,y:np.mean(x)-np.mean(y),n_boot=1000):\n",
    "    N = n+m\n",
    "    stats = []\n",
    "    for i in range(n_boot):\n",
    "        np.random.shuffle(pooled)\n",
    "        stats.append(myfun(pooled[:n],pooled[n:]))\n",
    "    stats = np.array(stats)\n",
    "    diffCount = (np.abs(stats)>delta).sum()\n",
    "    pval = float(diffCount)/float(n_boot)\n",
    "    return pval"
   ]
  },
  {
   "cell_type": "code",
   "execution_count": 173,
   "metadata": {},
   "outputs": [],
   "source": [
    "sns.set_style('whitegrid')\n",
    "sns.set_context('poster')\n",
    "gender_palette = sns.color_palette(['#1258DC','#C21460']) # M F\n",
    "geno_palette = sns.color_palette(['#8601AF','#FC600A']) # WT Df1\n",
    "gengen_palette = sns.color_palette(['#C91BFE','#8601AF','#FE9F6D','#FC600A']) # WT_F WT_M Df1_F Df1_M \n",
    "anim_palette = sns.color_palette(['#D84DFF','#C91BFE','#8601AF','#52006B','#FDBA96','#FE9F6D','#FC600A','#BF4503']) # RW7 RW8 RW9 RW10 RZ7 RZ8 RZ9 RZ10\n",
    "specAnim_palette = sns.color_palette(['#305A30','#0A3409','#A70F01','#882216']) # RW9 RW10 RZ9 RZ10\n",
    "bandAnim_palette = sns.color_palette(['#D84DFF','#FDBA96','#C91BFE','#FE9F6D','#8601AF','#FC600A','#52006B','#BF4503']) # RW7 RZ7 RW8 RZ8 RW9 RZ9 RW10 RZ10\n",
    "epoch_palette = sns.color_palette(['#2E2FE3','#FB8604','#448D76']) # Baseline Saline Ketamine\n",
    "state_palette = sns.color_palette(['#448D76','#FB8604','#EA202C'])\n",
    "palDict = {'genotype':geno_palette,\n",
    "           'gender': gender_palette,\n",
    "           'geno_gender':gengen_palette,\n",
    "           'animal':anim_palette,\n",
    "           'epoch_name':epoch_palette,\n",
    "           'spec_animal':specAnim_palette,\n",
    "           'state_name':state_palette,\n",
    "           'band_animal':bandAnim_palette}\n",
    "groupOrders = {'genotype':['WT','Df1'],\n",
    "               'gender':['M','F'],\n",
    "               'geno_gender':['WT_M','Df1_M','WT_F','Df1_F'],\n",
    "               'animal':['RW7','RW8','RW9','RW10','RZ7','RZ8','RZ9','RZ10'],\n",
    "               'epoch_name':['Baseline','Saline','Ketamine'],\n",
    "               'spec_animal':['RW9','RW10','RZ9','RZ10'],\n",
    "               'state_name':['NREM','Rest','Active'],\n",
    "               'band_animal':['RW7','RZ7','RW8','RZ8','RW9','RZ9','RW10','RZ10']}"
   ]
  },
  {
   "cell_type": "code",
   "execution_count": 5,
   "metadata": {},
   "outputs": [],
   "source": [
    "bandList = []\n",
    "project_path = '/data/Projects/'\n",
    "figure_dir = project_path+'rn_Schizophrenia_Project/SFN2018_Figures/'\n",
    "\n",
    "for dirpath,dirnames,files in os.walk(project_path):\n",
    "    for name in files:\n",
    "        if name.endswith('sleepBandPowerMatrix.csv'):\n",
    "            bandList.append(os.path.join(dirpath+'/'+name))"
   ]
  },
  {
   "cell_type": "code",
   "execution_count": 6,
   "metadata": {},
   "outputs": [],
   "source": [
    "exclusions = ('state_name==\"Artifact\"',\n",
    "              'state_name==\"Transition\"',\n",
    "              'state_name==\"REM\"',\n",
    "              'animal==\"RW9\" and (state_name==\"Active\" or tetrode==6)', # allow Active in trace plots\n",
    "              'animal==\"RW7\" and day==5',\n",
    "              'animal==\"RZ7\" and day==3',\n",
    "              'animal==\"RZ9\" and day==5 and tetrode==8',\n",
    "              'power_band==\"theta\"')\n",
    "qStr = 'not ('+') and not ('.join(exclusions)+')'"
   ]
  },
  {
   "cell_type": "code",
   "execution_count": 7,
   "metadata": {},
   "outputs": [
    {
     "name": "stdout",
     "output_type": "stream",
     "text": [
      "Data Loaded!\n"
     ]
    }
   ],
   "source": [
    "# Get data from CSV, add columns\n",
    "bandMat = pd.DataFrame()\n",
    "for rf in bandList:\n",
    "    tmp = pd.read_csv(rf)\n",
    "    bandMat = bandMat.append(tmp)\n",
    "bandMat = bandMat.reset_index(drop=True)\n",
    "print('Data Loaded!')\n",
    "# Change Epoch Names (Baseline, Saline, Ketamine, Home)\n",
    "# Change Band Names (Delta, Theta)\n",
    "epochDict = {'Sleep':'Baseline','Saline':'Saline','Ketamine':'Ketamine','Home':'Home'}\n",
    "bandMat['epoch_name'] = bandMat['epoch_type'].map(epochDict)\n",
    "\n",
    "# Add state names\n",
    "stateDict = {1:'REM',2:'NREM',3:'Rest',4:'Active',5:'Transition',6:'Artifact'}\n",
    "bandMat['state_name']=bandMat['sleep_state'].map(stateDict)\n",
    "\n",
    "animDat = pd.DataFrame(index=['RW7','RW8','RW9','RW10','RZ7','RZ8','RZ9','RZ10'],\n",
    "                       columns=['name','pair','gender','genotype'],\n",
    "                       data=[['WT1',1,'F','WT'],['WT2',2,'F','WT'],\n",
    "                             ['WT3',3,'M','WT'],['WT4',4,'M','WT'],\n",
    "                             ['DF1',1,'F','Df1'],['DF2',2,'F','Df1'],\n",
    "                             ['DF3',3,'M','Df1'],['Df4',4,'M','Df1']])\n",
    "bandMat['Pair'] = bandMat['animal'].map(animDat['pair'].to_dict())\n",
    "bandMat['Genotype x Gender'] = bandMat['genotype'].map(str) + '_' + bandMat['gender']\n",
    "bandMat['Name'] = bandMat['animal'].map(animDat['name'].to_dict())\n",
    "bandMat.rename(inplace=True,columns={'CWT_mean':'CWT Mean Power'})"
   ]
  },
  {
   "cell_type": "code",
   "execution_count": 8,
   "metadata": {},
   "outputs": [],
   "source": [
    "# For each time point mean over tetrodes, only keep important power\n",
    "# Then exclude and sample\n",
    "tmp = bandMat.query(qStr)\n",
    "avgDat = tmp.groupby(['animal','genotype','gender','Genotype x Gender','Name','Pair',\n",
    "                           'epoch_name','state_name','day','epoch','tetrode',\n",
    "                           'epoch_time']).mean().reset_index()\n",
    "\n",
    "stateCounts = avgDat.groupby(['animal','state_name'])['state_name'].count()\n",
    "minCounts = {}\n",
    "for state in avgDat['state_name'].unique():\n",
    "    minCounts[state]=min(stateCounts[:,state])\n",
    "\n",
    "# Pick same number of samples from each animal for each state\n",
    "sampSet = pd.DataFrame()\n",
    "for name, tmp in avgDat.groupby(['animal','state_name']):\n",
    "    n_samp = minCounts[name[1]]\n",
    "    sampSet = sampSet.append(tmp.sample(n_samp))\n",
    "sampSet = sampSet.sort_values(by=['animal','day'])"
   ]
  },
  {
   "cell_type": "code",
   "execution_count": 9,
   "metadata": {},
   "outputs": [],
   "source": [
    "# TODO: Really should check if recording time is related to band power (Verify Stable recordings)"
   ]
  },
  {
   "cell_type": "code",
   "execution_count": 108,
   "metadata": {},
   "outputs": [],
   "source": [
    "# Plot Df1-WT for each pair, use Mann-Whitney U test\n",
    "pairDiffs = pd.DataFrame()\n",
    "colNames = ['Gender','Pair','State','WT Mean Delta','WT SEM','WT CI','Df1 Mean Delta',\n",
    "            'Df1 SEM','Df1 CI','Difference','SD','U-Statistic','p-Value']\n",
    "n_boot = 5000\n",
    "for state in sampSet['state_name'].unique():\n",
    "    for name, data in avgDat.query('state_name==\"'+state+'\"').groupby(['Pair']):\n",
    "        \n",
    "        setWT = data.query('genotype==\"WT\"')['CWT Mean Power']\n",
    "        setDF = data.query('genotype==\"Df1\"')['CWT Mean Power']\n",
    "        gender = data['gender'].unique()[0]\n",
    "        if setWT.empty or setDF.empty:\n",
    "            tmpDiff = np.nan\n",
    "            tmpSD = np.nan\n",
    "            pval = np.nan\n",
    "            stat = np.nan\n",
    "            if not setWT.empty:\n",
    "                meanWT,semWT,ciWT = bootstrap(setWT)\n",
    "            else:\n",
    "                meanWT = np.nan\n",
    "                semWT = np.nan\n",
    "                ciWT = np.nan\n",
    "            if not setDF.empty:\n",
    "                meanDF,semDF,ciDF = bootstrap(setDF)\n",
    "            else:\n",
    "                meanDF = np.nan\n",
    "                semDF = np.nan\n",
    "                ciDF = np.nan\n",
    "        else:\n",
    "            meanWT,semWT,ciWT = bootstrap(setWT,n_boot=n_boot)\n",
    "            meanDF,semDF,ciDF = bootstrap(setDF,n_boot=n_boot)\n",
    "            tmpDiff = meanDF-meanWT\n",
    "            tmpSD = np.sqrt((semDF**2) + (semWT**2))\n",
    "            #pval = permutation_test(np.array(data['CWT Mean Power'].values),len(setWT),len(setDF),tmpDiff,n_boot=n_boot)        \n",
    "            stat, pval = mannu(setWT,setDF,alternative='two-sided')\n",
    "        dat = [gender,name,state,meanWT,semWT,ciWT,\n",
    "               meanWT,semWT,ciWT,tmpDiff,tmpSD,\n",
    "               stat,pval]\n",
    "        row = dict(zip(colNames,dat))\n",
    "        pairDiffs = pairDiffs.append(row,ignore_index=True)\n",
    "pairDiffs = pairDiffs[colNames]"
   ]
  },
  {
   "cell_type": "code",
   "execution_count": 323,
   "metadata": {},
   "outputs": [],
   "source": [
    "# Use KW and Kunn's on animals for pairwise analysis\n",
    "animKW = pd.DataFrame()\n",
    "datDicts = []\n",
    "Hdict = {}\n",
    "KWPval = {}\n",
    "dunnDict = {}\n",
    "n_boot = 2000\n",
    "for state in avgDat['state_name'].unique():\n",
    "    groups = []\n",
    "    toCompare = []\n",
    "    ids = []\n",
    "    tmpDF = pd.DataFrame()\n",
    "    i=0\n",
    "    for name, data in avgDat.query('state_name==\"'+state+'\"').groupby(['Pair']):\n",
    "        tmp1 = data.query('genotype==\"WT\"')['CWT Mean Power']\n",
    "        tmp2 = data.query('genotype==\"Df1\"')['CWT Mean Power']\n",
    "        if tmp1.empty:\n",
    "            meanWT = np.nan\n",
    "            semWT = np.nan\n",
    "        else:\n",
    "            meanWT,semWT,ciWT = bootstrap(setWT,n_boot=n_boot)\n",
    "        if tmp2.empty:\n",
    "            meanDF = np.nan\n",
    "            semDF = np.nan\n",
    "        else:\n",
    "            meanDF,semDF,ciDF = bootstrap(setDF,n_boot=n_boot)\n",
    "        if not tmp1.empty and not tmp2.empty:\n",
    "            groups.append(tmp1)\n",
    "            groups.append(tmp2)\n",
    "            toCompare.append((i,i+1))\n",
    "            ids.append((state,'WT',('%i' % name)))\n",
    "            ids.append((state,'Df1',name))\n",
    "            tmpDiff = meanDF-meanWT\n",
    "            tmpSD = np.sqrt((semDF**2) + (semWT**2))\n",
    "            i+=2\n",
    "        else:\n",
    "            tmpDiff = np.nan\n",
    "            tmpSD = np.nan\n",
    "        tmpRow = {'Pair':name,'Gender':animDat[animDat['pair']==name]['gender'].unique()[0],\n",
    "                  'State':state,'WT Mean Delta':'%0.2f' % meanWT,'WT SEM':'%0.2f' % semWT,\n",
    "                  'Df1 Mean Delta':'%0.2f' % meanDF,'Df1 SEM':'%0.2f' % semDF,\n",
    "                  'Difference':'%0.2f' % tmpDiff,'SD':'%0.2f' % tmpSD,'spi':state+('%i' % name)}\n",
    "        datDicts.append(tmpRow)\n",
    "        \n",
    "    \n",
    "    Hstat, pval = kruskal(*groups)\n",
    "    dunnP = sp.posthoc_dunn(groups,'bonferonni')\n",
    "    Hdict[state] = Hstat\n",
    "    KWPval[state] = pval\n",
    "    \n",
    "\n",
    "    arr = []\n",
    "    for p in toCompare:\n",
    "        a = ids[p[0]]\n",
    "        b = ids[p[1]]\n",
    "        pv = dunnP[p]\n",
    "        dunnDict[state+a[2]] = pv\n",
    "animStat = pd.DataFrame(datDicts)\n",
    "animStat['KW p-Value'] = animStat['State'].map(KWPval)\n",
    "animStat['H-statistic'] = animStat['State'].map(Hdict)\n",
    "animStat['Dunn p-Value'] = animStat['spi'].map(dunnDict)\n",
    "cols = ['State','Gender','Pair','WT Mean Delta','WT SEM','Df1 Mean Delta','Df1 SEM','Difference', 'SD','Dunn p-Value']\n",
    "animStatOut = animStat[cols].copy()\n",
    "animStatOut.to_html(figure_dir+'Bar/Littermate_Difference_Stats.html')"
   ]
  },
  {
   "cell_type": "code",
   "execution_count": 220,
   "metadata": {},
   "outputs": [],
   "source": [
    "col = []\n",
    "for x in pairDiffs['Dunn p-Value']:\n",
    "    if x<=0.001:\n",
    "        col.append('***')\n",
    "    elif x<=0.01:\n",
    "        col.append('**')\n",
    "    elif x<=0.05:\n",
    "        col.append('*')\n",
    "    else:\n",
    "        col.append(' ')\n",
    "pairDiffs['Sig Stars'] = col"
   ]
  },
  {
   "cell_type": "code",
   "execution_count": 262,
   "metadata": {},
   "outputs": [
    {
     "data": {
      "image/png": "[encoded data removed]",
      "text/plain": [
       "<Figure size 792x576 with 1 Axes>"
      ]
     },
     "metadata": {},
     "output_type": "display_data"
    }
   ],
   "source": [
    "#sns.set_context('poster')\n",
    "#sns.set_style('whitegrid',rc={'figure.figsize':(11,8.5)})\n",
    "n_states = len(pairDiffs['State'].unique())\n",
    "n_pairs = len(pairDiffs['Pair'].unique())\n",
    "x_shift = np.linspace(-0.3,0.3,n_pairs)\n",
    "x_pos = np.sort((\n",
    "        np.matlib.repmat(np.linspace(0,n_states-1,n_states),1,n_pairs)\n",
    "        .reshape(n_states,n_pairs)+x_shift).flatten())\n",
    "heights = pairDiffs.loc[:,'Difference']\n",
    "yerr = pairDiffs.loc[:,'SD']\n",
    "star_y = np.abs(np.abs(heights)+2*max(yerr))*np.sign(heights)\n",
    "g = sns.barplot(data=pairDiffs,x='State',y='Difference',hue='Pair',palette=palDict['geno_gender'])\n",
    "g.figure.set_size_inches(11,8)\n",
    "legend = g.legend(loc='upper right', bbox_to_anchor=(1.05, 1.05),\n",
    "                  ncol=1, fancybox=True, shadow=True,fontsize=18)\n",
    "g.set_ylim(-3500,3500)\n",
    "plt.vlines([.5,1.5],g.get_ylim()[0],g.get_ylim()[1],color='grey',linestyles='dotted')\n",
    "\n",
    "for x,h,err,s in zip(x_pos,heights,yerr,pairDiffs['Sig Stars']):\n",
    "    if not np.isnan(x) and not np.isnan(h):\n",
    "        if h<0:\n",
    "            y = h-3*max(yerr)\n",
    "        else:\n",
    "            y = h+1.5*max(yerr)\n",
    "        plt.text(x=x,y=y,s=s,ha='center')\n",
    "        plt.vlines(x,h-err,h+err,color='k',linestyles='solid')\n",
    "        \n",
    "g.figure.suptitle('Littermate Differences in Delta Band Power')\n",
    "g.set_xlabel('State')\n",
    "g.set_ylabel('$\\Delta$ Delta Power (Df1-WT)')\n",
    "g.figure.savefig(figure_dir+'Bar/Littermate_Differences.svg',format='svg')"
   ]
  },
  {
   "cell_type": "code",
   "execution_count": 276,
   "metadata": {},
   "outputs": [],
   "source": [
    "newMat = pd.DataFrame()\n",
    "cols = ['Pair','Gender','State','WT Mean Delta','WT SEM','Df1 Mean Delta', 'Df1 SEM','Difference','SD','H-Statistic','KW p-Value','Dunn p-Value']\n",
    "df = pairDiffs[cols]\n",
    "i=0\n",
    "#for col in idcols:\n",
    "#    newMat.append(pairDiffs[col])\n",
    "for i,row in df.iterrows():\n",
    "    newRow = [x if isinstance(x,str) else ('%0.3g' % x if x<1 else '%0.2f' % x) for x in row]\n",
    "    newMat = newMat.append(dict(zip(cols,newRow)),ignore_index=True)\n",
    "newMat = newMat[cols]\n",
    "newMat.to_latex(figure_dir+'Bar/Littermate_Difference_Stats.tex')"
   ]
  },
  {
   "cell_type": "code",
   "execution_count": null,
   "metadata": {},
   "outputs": [],
   "source": [
    "# Plot Animal and Genotype and Genotype x Gender bar graphs\n",
    "# Compare Genotype x Gender with Kruskal-Wallis and Dunn's post hoc test\n"
   ]
  },
  {
   "cell_type": "code",
   "execution_count": 335,
   "metadata": {},
   "outputs": [],
   "source": [
    "# Use KW and Kunn's on animals for pairwise analysis\n",
    "datDicts = []\n",
    "Hdict = {}\n",
    "KWPval = {}\n",
    "dunnDict = {}\n",
    "dunnStats = []\n",
    "n_boot = 2000\n",
    "for state in avgDat['state_name'].unique():\n",
    "    groups = []\n",
    "    toCompare = [(0,1),(0,2),(0,3),(1,2),(1,3),(2,3)]\n",
    "    ids = []\n",
    "    tmpDF = pd.DataFrame()\n",
    "    i=0\n",
    "    names = []\n",
    "    for name, data in avgDat.query('state_name==\"'+state+'\"').groupby(['Genotype x Gender']):\n",
    "        tmp1 = data['CWT Mean Power']\n",
    "        if tmp1.empty:\n",
    "            meanWT = np.nan\n",
    "            semWT = np.nan\n",
    "        else:\n",
    "            meanPow,semPow,ciPow = bootstrap(setWT,n_boot=n_boot)\n",
    "        if not tmp1.empty:\n",
    "            groups.append(tmp1)\n",
    "            ids.append((state,name))\n",
    "            names.append(name)\n",
    "        tmpRow = {'Genotype':data['genotype'].unique()[0],'Gender':data['gender'].unique()[0],\n",
    "                  'State':state,'Mean Delta':'%0.2f' % meanPow,'SEM':'%0.2f' % semPow,'N':len(tmp1)}\n",
    "        datDicts.append(tmpRow)\n",
    "        \n",
    "    \n",
    "    Hstat, pval = kruskal(*groups)\n",
    "    dunnP = sp.posthoc_dunn(groups,'bonferonni')\n",
    "    Hdict[state] = Hstat\n",
    "    KWPval[state] = pval\n",
    "    dunnTable = pd.DataFrame(data=dunnP,index=names,columns=names)\n",
    "    dunnStats.append(dunnTable)\n",
    "    \n",
    "ggStat = pd.DataFrame(datDicts)\n",
    "ggStat['KW p-Value'] = ggStat['State'].map(KWPval)\n",
    "ggStat['H-statistic'] = ggStat['State'].map(Hdict)\n",
    "ggStat.to_html(figure_dir+'Bar/Group_Difference_Stats.html')\n"
   ]
  },
  {
   "cell_type": "code",
   "execution_count": null,
   "metadata": {},
   "outputs": [],
   "source": []
  },
  {
   "cell_type": "code",
   "execution_count": 333,
   "metadata": {},
   "outputs": [
    {
     "data": {
      "text/plain": [
       "['WT_M']"
      ]
     },
     "execution_count": 333,
     "metadata": {},
     "output_type": "execute_result"
    }
   ],
   "source": [
    "names"
   ]
  },
  {
   "cell_type": "code",
   "execution_count": null,
   "metadata": {},
   "outputs": [],
   "source": []
  }
 ],
 "metadata": {
  "kernelspec": {
   "display_name": "Python 3",
   "language": "python",
   "name": "python3"
  },
  "language_info": {
   "codemirror_mode": {
    "name": "ipython",
    "version": 3
   },
   "file_extension": ".py",
   "mimetype": "text/x-python",
   "name": "python",
   "nbconvert_exporter": "python",
   "pygments_lexer": "ipython3",
   "version": "3.5.2"
  }
 },
 "nbformat": 4,
 "nbformat_minor": 2
}
